{
 "cells": [
  {
   "cell_type": "markdown",
   "metadata": {},
   "source": [
    "### Verify Row Echelon Form\n",
    "1. The nonzero rows of a matrix in echelon form are above any zero rows.\n",
    "2. The leading entry of each row is to the right of the leading entries of the rows above.\n",
    "3. The entries below a leading entry are zero."
   ]
  },
  {
   "cell_type": "code",
   "execution_count": 23,
   "metadata": {},
   "outputs": [
    {
     "name": "stdout",
     "output_type": "stream",
     "text": [
      "[(0, 0), (1, 1)]\n"
     ]
    }
   ],
   "source": [
    "import numpy as np\n",
    "\n",
    "def main():\n",
    "\n",
    "    matrix = np.array(\n",
    "        [\n",
    "            [8, 1, 7],\n",
    "            [0, 5, -3],\n",
    "            [0, 0, 0]\n",
    "        ]\n",
    "    )\n",
    "\n",
    "    if verifyZeroRowOrder(matrix) == False:\n",
    "        print(matrix[0])\n",
    "        print(\"is not in echelon form\")\n",
    "\n",
    "    verifyLeadingEntries(matrix)\n",
    "\n",
    "def verifyLeadingEntries(matrix):\n",
    "\n",
    "    pivot_indexes = []\n",
    "\n",
    "    rows = matrix.shape[0]\n",
    "    for i in range(0, rows):\n",
    "        row = matrix[i]\n",
    "        for j in range(0, len(row)):\n",
    "            elem = row[j]\n",
    "            if elem != 0:\n",
    "                pivot_indexes.append((i, j))\n",
    "                break\n",
    "\n",
    "    print(pivot_indexes)\n",
    "    return pivot_indexes\n",
    "\n",
    "\n",
    "def verifyZeroRowOrder(matrix):\n",
    "\n",
    "    order  = []\n",
    "\n",
    "    for row in matrix:\n",
    "\n",
    "        if isZeroRow(row):\n",
    "            order.append(0)\n",
    "        else:\n",
    "            order.append(1)\n",
    "            \n",
    "    zero_found = False\n",
    "\n",
    "    for num in order:\n",
    "        if num == 0:\n",
    "            zero_found = True\n",
    "        elif num == 1 and zero_found == True:\n",
    "            return False\n",
    "\n",
    "    return True\n",
    "\n",
    "def isZeroRow(row):\n",
    "    for elem in row:\n",
    "        if elem != 0:\n",
    "            return False\n",
    "    return True\n",
    "\n",
    "\n",
    "if __name__ == '__main__':\n",
    "    main()"
   ]
  }
 ],
 "metadata": {
  "kernelspec": {
   "display_name": ".venv",
   "language": "python",
   "name": "python3"
  },
  "language_info": {
   "codemirror_mode": {
    "name": "ipython",
    "version": 3
   },
   "file_extension": ".py",
   "mimetype": "text/x-python",
   "name": "python",
   "nbconvert_exporter": "python",
   "pygments_lexer": "ipython3",
   "version": "3.11.6"
  }
 },
 "nbformat": 4,
 "nbformat_minor": 2
}
